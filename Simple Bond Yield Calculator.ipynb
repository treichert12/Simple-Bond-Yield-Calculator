{
 "cells": [
  {
   "cell_type": "code",
   "execution_count": 63,
   "metadata": {},
   "outputs": [],
   "source": [
    "import math\n",
    "# f = par value\n",
    "# p = current price \n",
    "# t = duration\n",
    "# n = years to maturity \n",
    "# i = annual coupon rate\n",
    "# b = coupon frequency\n",
    "\n",
    "f = 1000\n",
    "p = 900\n",
    "t = 10\n",
    "n = 8\n",
    "i = .09\n",
    "b = 2 "
   ]
  },
  {
   "cell_type": "code",
   "execution_count": 64,
   "metadata": {},
   "outputs": [],
   "source": [
    "# Coupon Rate\n",
    "c = f*(i/b)\n",
    "# annual coupon rate\n",
    "ac = f*i"
   ]
  },
  {
   "cell_type": "code",
   "execution_count": 65,
   "metadata": {},
   "outputs": [
    {
     "name": "stdout",
     "output_type": "stream",
     "text": [
      "10.00%\n"
     ]
    }
   ],
   "source": [
    "# Current Yield\n",
    "cy = (f*i)/p\n",
    "cy\n",
    "print (\"{0:.2%}\".format(cy))"
   ]
  },
  {
   "cell_type": "code",
   "execution_count": 66,
   "metadata": {},
   "outputs": [
    {
     "name": "stdout",
     "output_type": "stream",
     "text": [
      "6.05%\n"
     ]
    }
   ],
   "source": [
    "# Yield to Maturity \n",
    "my = ((f*(i/b))+((f-p)/n))/((f+p)/b)\n",
    "print (\"{0:.2%}\".format(my))"
   ]
  },
  {
   "cell_type": "code",
   "execution_count": 68,
   "metadata": {},
   "outputs": [
    {
     "name": "stdout",
     "output_type": "stream",
     "text": [
      "Results:\n",
      "Coupon Rate:               35\n",
      "Annual Coupon Rate:        70\n",
      "Current Yield:          7.78%\n",
      "Yield to Maturity:     11.91%\n",
      "dtype: object\n"
     ]
    }
   ],
   "source": [
    "import pandas as pd\n",
    "def yields (f, p, t, n, i, b):\n",
    "    # Coupon Rate\n",
    "    c = f*(i/b)\n",
    "    # annual coupon rate\n",
    "    ac = f*i\n",
    "    # Current Yield\n",
    "    cy = (f*i)/p\n",
    "    # Yield to Maturity \n",
    "    my = ((f*(i/b))+((f-p)/n))/((f+p)/b)\n",
    "    my = (1+my)**b - 1\n",
    "    \n",
    "    print('Results:')\n",
    "    results = pd.Series([c, ac, \"{0:.2%}\".format(cy), \"{0:.2%}\".format(my)], index=['Coupon Rate:', 'Annual Coupon Rate:', 'Current Yield:', 'Yield to Maturity:'])\n",
    "    print(results)\n",
    "    \n",
    "yields(1000, 900, 10, 5, .07, 2)        "
   ]
  },
  {
   "cell_type": "code",
   "execution_count": 69,
   "metadata": {},
   "outputs": [
    {
     "name": "stdout",
     "output_type": "stream",
     "text": [
      "Results:\n",
      "Coupon Rate:              30\n",
      "Annual Coupon Rate:       60\n",
      "Current Yield:         7.06%\n",
      "Yield to Maturity:     9.97%\n",
      "dtype: object\n"
     ]
    }
   ],
   "source": [
    "yields(1000, 850, 10, 10, .06, 2)"
   ]
  },
  {
   "cell_type": "code",
   "execution_count": null,
   "metadata": {},
   "outputs": [],
   "source": []
  }
 ],
 "metadata": {
  "kernelspec": {
   "display_name": "Python 3",
   "language": "python",
   "name": "python3"
  },
  "language_info": {
   "codemirror_mode": {
    "name": "ipython",
    "version": 3
   },
   "file_extension": ".py",
   "mimetype": "text/x-python",
   "name": "python",
   "nbconvert_exporter": "python",
   "pygments_lexer": "ipython3",
   "version": "3.7.1"
  }
 },
 "nbformat": 4,
 "nbformat_minor": 2
}
